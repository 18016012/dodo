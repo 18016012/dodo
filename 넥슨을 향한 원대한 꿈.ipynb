{
 "cells": [
  {
   "cell_type": "markdown",
   "metadata": {},
   "source": [
    "불법 프로그램 사용 유저를 미리 알 수 없을까?\n",
    "\n",
    "어떻게 ? 병영수첩 부검 하는 방식으로\n",
    "\n",
    "불법 프로그램 사용하는 사람들 특징 : 낮은 맵숙련도, 높은 킬뎃, 높은 승률, 파티랭크에 더 많음, 고과금 유저는 가능성 적음\n",
    "\n",
    "맵숙련도 100 이하, 킬뎃 65 이상, 승률 65 이상 데이터 추출\n",
    "\n",
    "핵쓰는 애들이나 정지당한 애들 계정을 봐야 알 것 같은데\n",
    "노다가로 추출해보자;^^"
   ]
  },
  {
   "cell_type": "code",
   "execution_count": 1,
   "metadata": {},
   "outputs": [
    {
     "name": "stdout",
     "output_type": "stream",
     "text": [
      "Requirement already satisfied: requests in c:\\users\\minsu\\anaconda3\\lib\\site-packages (2.24.0)Note: you may need to restart the kernel to use updated packages.\n",
      "\n",
      "Requirement already satisfied: certifi>=2017.4.17 in c:\\users\\minsu\\anaconda3\\lib\\site-packages (from requests) (2020.6.20)\n",
      "Requirement already satisfied: chardet<4,>=3.0.2 in c:\\users\\minsu\\anaconda3\\lib\\site-packages (from requests) (3.0.4)\n",
      "Requirement already satisfied: urllib3!=1.25.0,!=1.25.1,<1.26,>=1.21.1 in c:\\users\\minsu\\anaconda3\\lib\\site-packages (from requests) (1.25.9)\n",
      "Requirement already satisfied: idna<3,>=2.5 in c:\\users\\minsu\\anaconda3\\lib\\site-packages (from requests) (2.10)\n"
     ]
    }
   ],
   "source": [
    "pip install requests"
   ]
  },
  {
   "cell_type": "code",
   "execution_count": 2,
   "metadata": {},
   "outputs": [
    {
     "name": "stdout",
     "output_type": "stream",
     "text": [
      "Collecting beautifulsoup\n",
      "  Downloading BeautifulSoup-3.2.2.tar.gz (32 kB)\n",
      "Note: you may need to restart the kernel to use updated packages.\n"
     ]
    },
    {
     "name": "stderr",
     "output_type": "stream",
     "text": [
      "    ERROR: Command errored out with exit status 1:\n",
      "     command: 'C:\\Users\\minsu\\anaconda3\\python.exe' -c 'import sys, setuptools, tokenize; sys.argv[0] = '\"'\"'C:\\\\Users\\\\minsu\\\\AppData\\\\Local\\\\Temp\\\\pip-install-y3wy3nnt\\\\beautifulsoup\\\\setup.py'\"'\"'; __file__='\"'\"'C:\\\\Users\\\\minsu\\\\AppData\\\\Local\\\\Temp\\\\pip-install-y3wy3nnt\\\\beautifulsoup\\\\setup.py'\"'\"';f=getattr(tokenize, '\"'\"'open'\"'\"', open)(__file__);code=f.read().replace('\"'\"'\\r\\n'\"'\"', '\"'\"'\\n'\"'\"');f.close();exec(compile(code, __file__, '\"'\"'exec'\"'\"'))' egg_info --egg-base 'C:\\Users\\minsu\\AppData\\Local\\Temp\\pip-pip-egg-info-4h9rlqxa'\n",
      "         cwd: C:\\Users\\minsu\\AppData\\Local\\Temp\\pip-install-y3wy3nnt\\beautifulsoup\\\n",
      "    Complete output (6 lines):\n",
      "    Traceback (most recent call last):\n",
      "      File \"<string>\", line 1, in <module>\n",
      "      File \"C:\\Users\\minsu\\AppData\\Local\\Temp\\pip-install-y3wy3nnt\\beautifulsoup\\setup.py\", line 3\n",
      "        \"You're trying to run a very old release of Beautiful Soup under Python 3. This will not work.\"<>\"Please use Beautiful Soup 4, available through the pip package 'beautifulsoup4'.\"\n",
      "                                                                                                        ^\n",
      "    SyntaxError: invalid syntax\n",
      "    ----------------------------------------\n",
      "ERROR: Command errored out with exit status 1: python setup.py egg_info Check the logs for full command output.\n"
     ]
    }
   ],
   "source": [
    "pip install beautifulsoup"
   ]
  },
  {
   "cell_type": "code",
   "execution_count": 3,
   "metadata": {},
   "outputs": [],
   "source": [
    "import requests"
   ]
  },
  {
   "cell_type": "code",
   "execution_count": 19,
   "metadata": {},
   "outputs": [],
   "source": [
    "import requests\n",
    "from bs4 import BeautifulSoup\n",
    "\n",
    "# 스크랩하고자 하는 웹 페이지의 URL\n",
    "url = 'https://barracks.sa.nexon.com/1074112154/workmanship'\n",
    "\n",
    "# 웹 페이지에 요청\n",
    "response = requests.get(url)\n",
    "\n",
    "# 응답의 내용을 파싱\n",
    "soup = BeautifulSoup(response.text, 'html.parser')\n",
    "\n",
    "# 클래스를 이용해 정보 추출\n",
    "levels = soup.find_all(class_='data')\n",
    "\n",
    "\n",
    "for level in levels:\n",
    "    print(level.text)"
   ]
  },
  {
   "cell_type": "code",
   "execution_count": 9,
   "metadata": {},
   "outputs": [
    {
     "name": "stdout",
     "output_type": "stream",
     "text": [
      "성공\n"
     ]
    }
   ],
   "source": [
    "response = requests.get(url)\n",
    "if response.status_code == 200:\n",
    "    print(\"성공\")\n",
    "else:\n",
    "    print(\"실패\", response.status_code)"
   ]
  },
  {
   "cell_type": "code",
   "execution_count": 10,
   "metadata": {},
   "outputs": [
    {
     "name": "stdout",
     "output_type": "stream",
     "text": [
      "<!DOCTYPE html>\n",
      "<html lang=\"ko\">\n",
      " <head>\n",
      "  <meta charset=\"utf-8\"/>\n",
      "  <meta content=\"IE=edge\" http-equiv=\"X-UA-Compatible\"/>\n",
      "  <meta content=\"width=device-width,initial-scale=1\" name=\"viewport\"/>\n",
      "  <link href=\"https://img.sa.nexon.com/images/common/favicon.ico\" rel=\"icon\"/>\n",
      "  <title>\n",
      "   ìë ì´í ë³ììì²©\n",
      "  </title>\n",
      "  <script charset=\"utf-8\" data-name=\"PS\" data-ngm=\"true\" data-nxlogin=\"true\" src=\"https://ssl.nexon.com/s1/p2/ps.min.js\">\n",
      "  </script>\n",
      "  <script src=\"https://ssl.nexon.com/s1/da/a2s.js\">\n",
      "  </script>\n",
      "  <link href=\"/js/ListOfMatch.77515e18.js\" rel=\"prefetch\"/>\n",
      "  <link href=\"/js/ListOfMatch~WaxAdmin~clan~match~trial.f0f923b2.js\" rel=\"prefetch\"/>\n",
      "  <link href=\"/js/ListOfMatch~clan~match.e1f55a15.js\" rel=\"prefetch\"/>\n",
      "  <link href=\"/js/SaradioBattleLog.cd3e70e0.js\" rel=\"prefetch\"/>\n",
      "  <link href=\"/js/Shield.48230fb5.js\" rel=\"prefetch\"/>\n",
      "  <link href=\"/js/ShieldView.4efbbbf7.js\" rel=\"prefetch\"/>\n",
      "  <link href=\"/js/Shield~WaxAdmin~detail~guillotine~match~trial.49d5ffc2.js\" rel=\"prefetch\"/>\n",
      "  <link href=\"/js/WaxAdmin.2a3d997e.js\" rel=\"prefetch\"/>\n",
      "  <link href=\"/js/WaxAdmin~clan~match~trial.603a612b.js\" rel=\"prefetch\"/>\n",
      "  <link href=\"/js/WaxAdmin~trial.a586e0c4.js\" rel=\"prefetch\"/>\n",
      "  <link href=\"/js/WaxRanking.884fdcb9.js\" rel=\"prefetch\"/>\n",
      "  <link href=\"/js/clan.308e00fb.js\" rel=\"prefetch\"/>\n",
      "  <link href=\"/js/customMatch.51b76868.js\" rel=\"prefetch\"/>\n",
      "  <link href=\"/js/detail.dc113673.js\" rel=\"prefetch\"/>\n",
      "  <link href=\"/js/diary.e4462952.js\" rel=\"prefetch\"/>\n",
      "  <link href=\"/js/guillotine.b2dc4134.js\" rel=\"prefetch\"/>\n",
      "  <link href=\"/js/match.c49214ba.js\" rel=\"prefetch\"/>\n",
      "  <link href=\"/js/ranking.470e073d.js\" rel=\"prefetch\"/>\n",
      "  <link href=\"/js/replayM.52012aab.js\" rel=\"prefetch\"/>\n",
      "  <link href=\"/js/statistics.ab328e0d.js\" rel=\"prefetch\"/>\n",
      "  <link href=\"/js/trial.76834504.js\" rel=\"prefetch\"/>\n",
      "  <link href=\"/js/workmanship.252696dd.js\" rel=\"prefetch\"/>\n",
      "  <link as=\"script\" href=\"/js/app.4fdce6e2.js\" rel=\"preload\"/>\n",
      "  <link as=\"script\" href=\"/js/chunk-common.bd30935b.js\" rel=\"preload\"/>\n",
      "  <link as=\"script\" href=\"/js/chunk-vendors.a1408490.js\" rel=\"preload\"/>\n",
      " </head>\n",
      " <body>\n",
      "  <noscript>\n",
      "   <strong>\n",
      "    We're sorry but clientapp doesn't work properly without JavaScript enabled. Please enable it to continue.\n",
      "   </strong>\n",
      "  </noscript>\n",
      "  <div id=\"app\">\n",
      "  </div>\n",
      "  <script src=\"/js/chunk-vendors.a1408490.js\">\n",
      "  </script>\n",
      "  <script src=\"/js/chunk-common.bd30935b.js\">\n",
      "  </script>\n",
      "  <script src=\"/js/app.4fdce6e2.js\">\n",
      "  </script>\n",
      " </body>\n",
      "</html>\n"
     ]
    }
   ],
   "source": [
    "print(soup.prettify())"
   ]
  },
  {
   "cell_type": "code",
   "execution_count": null,
   "metadata": {},
   "outputs": [],
   "source": [
    "자바 시발\n"
   ]
  }
 ],
 "metadata": {
  "kernelspec": {
   "display_name": "Python 3",
   "language": "python",
   "name": "python3"
  },
  "language_info": {
   "codemirror_mode": {
    "name": "ipython",
    "version": 3
   },
   "file_extension": ".py",
   "mimetype": "text/x-python",
   "name": "python",
   "nbconvert_exporter": "python",
   "pygments_lexer": "ipython3",
   "version": "3.8.3"
  }
 },
 "nbformat": 4,
 "nbformat_minor": 4
}
